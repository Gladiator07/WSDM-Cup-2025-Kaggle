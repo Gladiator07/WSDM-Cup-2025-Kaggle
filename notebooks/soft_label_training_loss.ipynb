{
 "cells": [
  {
   "cell_type": "code",
   "execution_count": 11,
   "metadata": {},
   "outputs": [],
   "source": [
    "import pandas as pd\n",
    "import numpy as np\n",
    "import torch\n",
    "import torch.nn as nn"
   ]
  },
  {
   "cell_type": "code",
   "execution_count": 3,
   "metadata": {},
   "outputs": [],
   "source": [
    "class DenseCrossEntropy(nn.Module):\n",
    "    def forward(self, x, target, weights=None):\n",
    "        x = x.float()\n",
    "        target = target.float()\n",
    "        logprobs = torch.nn.functional.log_softmax(x, dim=-1)\n",
    "        loss = -logprobs * target\n",
    "        loss = loss.sum(-1)\n",
    "        return loss.mean()"
   ]
  },
  {
   "cell_type": "code",
   "execution_count": 25,
   "metadata": {},
   "outputs": [
    {
     "data": {
      "text/html": [
       "<div>\n",
       "<style scoped>\n",
       "    .dataframe tbody tr th:only-of-type {\n",
       "        vertical-align: middle;\n",
       "    }\n",
       "\n",
       "    .dataframe tbody tr th {\n",
       "        vertical-align: top;\n",
       "    }\n",
       "\n",
       "    .dataframe thead th {\n",
       "        text-align: right;\n",
       "    }\n",
       "</style>\n",
       "<table border=\"1\" class=\"dataframe\">\n",
       "  <thead>\n",
       "    <tr style=\"text-align: right;\">\n",
       "      <th></th>\n",
       "      <th>id</th>\n",
       "      <th>prompt</th>\n",
       "      <th>response_a</th>\n",
       "      <th>response_b</th>\n",
       "      <th>winner</th>\n",
       "      <th>model_a</th>\n",
       "      <th>model_b</th>\n",
       "      <th>language</th>\n",
       "      <th>split</th>\n",
       "      <th>source</th>\n",
       "      <th>hard_labels</th>\n",
       "      <th>soft_labels</th>\n",
       "      <th>logits</th>\n",
       "    </tr>\n",
       "  </thead>\n",
       "  <tbody>\n",
       "    <tr>\n",
       "      <th>0</th>\n",
       "      <td>58210e39b3fd4441a2bd4a518bb44c2d</td>\n",
       "      <td>What is the difference between OpenCL and CUDA?</td>\n",
       "      <td>OpenCL and CUDA are two different programming ...</td>\n",
       "      <td>OpenCL and CUDA are both programming languages...</td>\n",
       "      <td>model_b</td>\n",
       "      <td>chatglm-6b</td>\n",
       "      <td>koala-13b</td>\n",
       "      <td>English</td>\n",
       "      <td>train</td>\n",
       "      <td>lmsys_33k</td>\n",
       "      <td>1</td>\n",
       "      <td>[0.015, 0.985]</td>\n",
       "      <td>[0.015, 0.985]</td>\n",
       "    </tr>\n",
       "    <tr>\n",
       "      <th>1</th>\n",
       "      <td>90bfd142157948aba01931726c888e7f</td>\n",
       "      <td>Fuji vs. Nikon, which is better?</td>\n",
       "      <td>Both Fuji and Nikon are popular camera brands ...</td>\n",
       "      <td>This is a subjective question and the answer d...</td>\n",
       "      <td>model_b</td>\n",
       "      <td>koala-13b</td>\n",
       "      <td>oasst-pythia-12b</td>\n",
       "      <td>English</td>\n",
       "      <td>train</td>\n",
       "      <td>lmsys_33k</td>\n",
       "      <td>1</td>\n",
       "      <td>[0.015, 0.985]</td>\n",
       "      <td>[0.015, 0.985]</td>\n",
       "    </tr>\n",
       "    <tr>\n",
       "      <th>2</th>\n",
       "      <td>a7c5accc53e649a3bc6b2e41d962ebc4</td>\n",
       "      <td>How to build an arena for chatbots?</td>\n",
       "      <td>Building an arena for chatbots can be done by ...</td>\n",
       "      <td>Building an arena for chatbots is a great way ...</td>\n",
       "      <td>model_b</td>\n",
       "      <td>vicuna-13b</td>\n",
       "      <td>oasst-pythia-12b</td>\n",
       "      <td>English</td>\n",
       "      <td>train</td>\n",
       "      <td>lmsys_33k</td>\n",
       "      <td>1</td>\n",
       "      <td>[0.015, 0.985]</td>\n",
       "      <td>[0.015, 0.985]</td>\n",
       "    </tr>\n",
       "    <tr>\n",
       "      <th>3</th>\n",
       "      <td>adf27e819a3c494cb6e993f0c660e097</td>\n",
       "      <td>When is it today?</td>\n",
       "      <td>I'm sorry, I cannot determine the current date...</td>\n",
       "      <td>Today is February 23, 2023.</td>\n",
       "      <td>model_a</td>\n",
       "      <td>vicuna-13b</td>\n",
       "      <td>koala-13b</td>\n",
       "      <td>English</td>\n",
       "      <td>train</td>\n",
       "      <td>lmsys_33k</td>\n",
       "      <td>0</td>\n",
       "      <td>[0.985, 0.015]</td>\n",
       "      <td>[0.985, 0.015]</td>\n",
       "    </tr>\n",
       "    <tr>\n",
       "      <th>4</th>\n",
       "      <td>c0fc42c6f5f14f2aa5a89f71f8553730</td>\n",
       "      <td>Count from 1 to 10 with step = 3</td>\n",
       "      <td>1, 4, 7, 10\\n\\nCounting with a step of 3 means...</td>\n",
       "      <td>1, 4, 7, 10</td>\n",
       "      <td>model_a</td>\n",
       "      <td>vicuna-13b</td>\n",
       "      <td>koala-13b</td>\n",
       "      <td>English</td>\n",
       "      <td>train</td>\n",
       "      <td>lmsys_33k</td>\n",
       "      <td>0</td>\n",
       "      <td>[0.985, 0.015]</td>\n",
       "      <td>[0.985, 0.015]</td>\n",
       "    </tr>\n",
       "  </tbody>\n",
       "</table>\n",
       "</div>"
      ],
      "text/plain": [
       "                                 id  \\\n",
       "0  58210e39b3fd4441a2bd4a518bb44c2d   \n",
       "1  90bfd142157948aba01931726c888e7f   \n",
       "2  a7c5accc53e649a3bc6b2e41d962ebc4   \n",
       "3  adf27e819a3c494cb6e993f0c660e097   \n",
       "4  c0fc42c6f5f14f2aa5a89f71f8553730   \n",
       "\n",
       "                                            prompt  \\\n",
       "0  What is the difference between OpenCL and CUDA?   \n",
       "1                 Fuji vs. Nikon, which is better?   \n",
       "2              How to build an arena for chatbots?   \n",
       "3                                When is it today?   \n",
       "4                 Count from 1 to 10 with step = 3   \n",
       "\n",
       "                                          response_a  \\\n",
       "0  OpenCL and CUDA are two different programming ...   \n",
       "1  Both Fuji and Nikon are popular camera brands ...   \n",
       "2  Building an arena for chatbots can be done by ...   \n",
       "3  I'm sorry, I cannot determine the current date...   \n",
       "4  1, 4, 7, 10\\n\\nCounting with a step of 3 means...   \n",
       "\n",
       "                                          response_b   winner     model_a  \\\n",
       "0  OpenCL and CUDA are both programming languages...  model_b  chatglm-6b   \n",
       "1  This is a subjective question and the answer d...  model_b   koala-13b   \n",
       "2  Building an arena for chatbots is a great way ...  model_b  vicuna-13b   \n",
       "3                        Today is February 23, 2023.  model_a  vicuna-13b   \n",
       "4                                        1, 4, 7, 10  model_a  vicuna-13b   \n",
       "\n",
       "            model_b language  split     source  hard_labels     soft_labels  \\\n",
       "0         koala-13b  English  train  lmsys_33k            1  [0.015, 0.985]   \n",
       "1  oasst-pythia-12b  English  train  lmsys_33k            1  [0.015, 0.985]   \n",
       "2  oasst-pythia-12b  English  train  lmsys_33k            1  [0.015, 0.985]   \n",
       "3         koala-13b  English  train  lmsys_33k            0  [0.985, 0.015]   \n",
       "4         koala-13b  English  train  lmsys_33k            0  [0.985, 0.015]   \n",
       "\n",
       "           logits  \n",
       "0  [0.015, 0.985]  \n",
       "1  [0.015, 0.985]  \n",
       "2  [0.015, 0.985]  \n",
       "3  [0.985, 0.015]  \n",
       "4  [0.985, 0.015]  "
      ]
     },
     "execution_count": 25,
     "metadata": {},
     "output_type": "execute_result"
    }
   ],
   "source": [
    "df = pd.read_parquet(\"../data/train_orig_plus_pseudo_v1.parquet\")\n",
    "df.head()"
   ]
  },
  {
   "cell_type": "code",
   "execution_count": 31,
   "metadata": {},
   "outputs": [
    {
     "data": {
      "text/plain": [
       "torch.Size([9, 2])"
      ]
     },
     "execution_count": 31,
     "metadata": {},
     "output_type": "execute_result"
    }
   ],
   "source": [
    "loss_fn = DenseCrossEntropy()\n",
    "\n",
    "logits = np.array(df[\"soft_labels\"].tolist()[0:9])\n",
    "logits = torch.tensor(logits)\n",
    "logits.shape # (batch_size, num_classes)"
   ]
  },
  {
   "cell_type": "code",
   "execution_count": 32,
   "metadata": {},
   "outputs": [
    {
     "data": {
      "text/plain": [
       "torch.Size([9, 2])"
      ]
     },
     "execution_count": 32,
     "metadata": {},
     "output_type": "execute_result"
    }
   ],
   "source": [
    "predictions = np.array(df[\"soft_labels\"].tolist()[1:10])\n",
    "predictions = torch.tensor(predictions)\n",
    "predictions.shape # (batch_size, num_classes)"
   ]
  },
  {
   "cell_type": "code",
   "execution_count": 36,
   "metadata": {},
   "outputs": [
    {
     "data": {
      "text/plain": [
       "tensor(0.5451)"
      ]
     },
     "execution_count": 36,
     "metadata": {},
     "output_type": "execute_result"
    }
   ],
   "source": [
    "loss_fn(logits, predictions)"
   ]
  },
  {
   "cell_type": "code",
   "execution_count": 34,
   "metadata": {},
   "outputs": [
    {
     "data": {
      "text/plain": [
       "tensor(0.5451, dtype=torch.float64)"
      ]
     },
     "execution_count": 34,
     "metadata": {},
     "output_type": "execute_result"
    }
   ],
   "source": [
    "ce_loss = nn.CrossEntropyLoss()\n",
    "ce_loss(logits, predictions)"
   ]
  },
  {
   "cell_type": "code",
   "execution_count": 37,
   "metadata": {},
   "outputs": [
    {
     "data": {
      "text/plain": [
       "tensor(0.5451, dtype=torch.float64)"
      ]
     },
     "execution_count": 37,
     "metadata": {},
     "output_type": "execute_result"
    }
   ],
   "source": [
    "import torch.nn.functional as F\n",
    "F.cross_entropy(logits, predictions)"
   ]
  }
 ],
 "metadata": {
  "kernelspec": {
   "display_name": "kaggle",
   "language": "python",
   "name": "python3"
  },
  "language_info": {
   "codemirror_mode": {
    "name": "ipython",
    "version": 3
   },
   "file_extension": ".py",
   "mimetype": "text/x-python",
   "name": "python",
   "nbconvert_exporter": "python",
   "pygments_lexer": "ipython3",
   "version": "3.10.12"
  }
 },
 "nbformat": 4,
 "nbformat_minor": 2
}
